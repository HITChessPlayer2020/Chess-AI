{
 "nbformat": 4,
 "nbformat_minor": 2,
 "metadata": {
  "language_info": {
   "name": "python",
   "codemirror_mode": {
    "name": "ipython",
    "version": 3
   },
   "version": "3.6.8-final"
  },
  "orig_nbformat": 2,
  "file_extension": ".py",
  "mimetype": "text/x-python",
  "name": "python",
  "npconvert_exporter": "python",
  "pygments_lexer": "ipython3",
  "version": 3,
  "kernelspec": {
   "name": "python36864bitpython36condae27ac4404c2346e38b04567e90758994",
   "display_name": "Python 3.6.8 64-bit ('python36': conda)"
  }
 },
 "cells": [
  {
   "cell_type": "code",
   "execution_count": 10,
   "metadata": {},
   "outputs": [],
   "source": [
    "import chess\n",
    "import chess.svg\n",
    "import chess.polyglot\n",
    "import random\n",
    "import AI\n",
    "import book\n",
    "import boardset"
   ]
  },
  {
   "cell_type": "code",
   "execution_count": 11,
   "metadata": {},
   "outputs": [],
   "source": [
    "from IPython.core.interactiveshell import InteractiveShell\n",
    "InteractiveShell.ast_node_interactivity = \"all\"\n",
    "from IPython import display"
   ]
  },
  {
   "cell_type": "code",
   "execution_count": 12,
   "metadata": {},
   "outputs": [],
   "source": [
    "book.LoadOpeingBook()\n",
    "board = chess.Board()\n",
    "board_info = {}\n",
    "boardset.board_start(board, board_info)\n",
    "Search_Depth = 4  # 搜索深度，越大AI越强"
   ]
  },
  {
   "cell_type": "code",
   "execution_count": 13,
   "metadata": {},
   "outputs": [],
   "source": [
    "def check_human_move(Human_Move): #检测走法合法性\n",
    "    try:\n",
    "        board.push_san(Human_Move)\n",
    "        board.pop()\n",
    "    except:\n",
    "        return False\n",
    "    return True"
   ]
  },
  {
   "cell_type": "code",
   "execution_count": 14,
   "metadata": {},
   "outputs": [],
   "source": [
    "def humanMove(s):\n",
    "    Human_Move = input(\"\\n%s:\" % s)\n",
    "    while (check_human_move(Human_Move) != True):\n",
    "        Human_Move = input(\"The move is illegal, please input again.\\n%s:\" % s)\n",
    "    boardset.board_info_set(board, Human_Move, board_info)\n",
    "    board.push_san(Human_Move)"
   ]
  },
  {
   "cell_type": "code",
   "execution_count": 15,
   "metadata": {},
   "outputs": [],
   "source": [
    "def aiMove():\n",
    "    AI_Move = book.book_move(board)  # 读入开局库\n",
    "    if (AI_Move != None):\n",
    "        board.push_san(AI_Move)\n",
    "    else:\n",
    "        AI_Move = AI.do_search(board, board_info, Search_Depth)\n",
    "        boardset.board_info_set(board, AI_Move, board_info)\n",
    "        board_info[\"hash\"] = chess.polyglot.zobrist_hash(board)\n",
    "        board.push_san(AI_Move)\n",
    "    return AI_Move"
   ]
  },
  {
   "cell_type": "code",
   "execution_count": 16,
   "metadata": {},
   "outputs": [],
   "source": [
    "color = input(\"Choose Your Color (White/Black):\")  # 选择黑白方"
   ]
  },
  {
   "cell_type": "code",
   "execution_count": 8,
   "metadata": {},
   "outputs": [],
   "source": [
    "if (color == \"white\" or color == \"White\" or color == \"w\" or color == \"W\"):\n",
    "    board_info[\"color_AI\"] = 0\n",
    "    board\n",
    "    while (not board.is_game_over()):\n",
    "        humanMove(\"White\")\n",
    "        AI_Move = aiMove()\n",
    "        display.clear_output()\n",
    "        print(\"Black: \" + AI_Move + \"\\nValue: \" + str(AI.evaluate(board, board_info)))\n",
    "        board"
   ]
  },
  {
   "cell_type": "code",
   "execution_count": 9,
   "metadata": {},
   "outputs": [],
   "source": [
    "if (color == \"black\" or color == \"Black\" or color == \"b\" or color == \"B\"):\n",
    "    board_info[\"color_AI\"] = 1\n",
    "    while (not board.is_game_over()):\n",
    "        AI_Move = aiMove()\n",
    "        display.clear_output()\n",
    "        print(\"Black: \" + AI_Move + \"\\nValue: \" + str(AI.evaluate(board, board_info)))\n",
    "        board\n",
    "        humanMove(\"Black\")"
   ]
  },
  {
   "cell_type": "code",
   "execution_count": null,
   "metadata": {},
   "outputs": [],
   "source": []
  }
 ]
}